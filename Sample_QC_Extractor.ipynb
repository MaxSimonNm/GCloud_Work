{
  "nbformat": 4,
  "nbformat_minor": 0,
  "metadata": {
    "colab": {
      "provenance": [],
      "mount_file_id": "1Er1rqqllLa7NL4Cwv4YEjATxha5tLtw1",
      "authorship_tag": "ABX9TyNfbXyrMArnyfCCGnFljgYh",
      "include_colab_link": true
    },
    "kernelspec": {
      "name": "python3",
      "display_name": "Python 3"
    },
    "language_info": {
      "name": "python"
    }
  },
  "cells": [
    {
      "cell_type": "markdown",
      "metadata": {
        "id": "view-in-github",
        "colab_type": "text"
      },
      "source": [
        "<a href=\"https://colab.research.google.com/github/MaxSimonNm/GCloud_Work/blob/main/Sample_QC_Extractor.ipynb\" target=\"_parent\"><img src=\"https://colab.research.google.com/assets/colab-badge.svg\" alt=\"Open In Colab\"/></a>"
      ]
    },
    {
      "cell_type": "code",
      "source": [
        "from google.colab import auth\n",
        "import gspread\n",
        "from google.auth import default\n",
        "import pandas as pd\n",
        "from gspread_dataframe import set_with_dataframe\n",
        "#autenticating to google\n",
        "auth.authenticate_user()\n",
        "creds, _ = default()\n",
        "gc = gspread.authorize(creds)"
      ],
      "metadata": {
        "id": "2GO4pT7JGKw2"
      },
      "execution_count": null,
      "outputs": []
    },
    {
      "cell_type": "code",
      "source": [
        "# Get the instance of the Spreadsheet\n",
        "spreadsheet = gc.open('Samples QC')  # replace with your Google Sheet name\n",
        "\n",
        "# Get the specific sheet name\n",
        "worksheet = spreadsheet.worksheet('Germline Ref 3.9.5 DQCM Jan 23-Dec 23')  # replace with your sheet name\n",
        "\n",
        "# Get all values in the sheet\n",
        "rows = worksheet.get_all_values()\n",
        "\n",
        "# Convert the data to a pandas DataFrame\n",
        "df = pd.DataFrame(rows[1:], columns=rows[0])  # Set the first row as header\n",
        "\n",
        "# Convert numeric columns to appropriate data types\n",
        "numeric_columns = ['Total aligned bases', 'TAB Score', 'Data received -Total data (GB)',\n",
        "                   'Total length of targeted reference', 'Percent duplicate aligned reads',\n",
        "                   'PDAR Score', 'Unique base enrichment', 'UBE Score',\n",
        "                   'Mean target coverage depth', 'MTCD Score',\n",
        "                   'Uniformity of coverage (Pct > 0.2*mean)', 'UC Score',\n",
        "                   'Fragment length median', 'FLM Score', 'Total Score', 'countif']"
      ],
      "metadata": {
        "id": "uBY9TaPcIHhV"
      },
      "execution_count": null,
      "outputs": []
    },
    {
      "cell_type": "code",
      "source": [
        "# Display the DataFrame\n",
        "print(df)"
      ],
      "metadata": {
        "colab": {
          "base_uri": "https://localhost:8080/"
        },
        "id": "VdMh9d16Irsk",
        "outputId": "083b0801-789d-44d5-8a5f-1892d623885a"
      },
      "execution_count": null,
      "outputs": [
        {
          "output_type": "stream",
          "name": "stdout",
          "text": [
            "     Service provider-Date (LifeCell/Wipro/Medgenome/CDFC)     ID  \\\n",
            "0                                    L-B109(06/02/2023)      WATD   \n",
            "1                                    L-B109(06/02/2023)      WATJ   \n",
            "2                                    L-B109(06/02/2023)      WATA   \n",
            "3                                    L-B109(06/02/2023)      WATL   \n",
            "4                                    L-B109(06/02/2023)      WATC   \n",
            "...                                                 ...       ...   \n",
            "1338                                 W-166 (23/10/2023)     WJNAK   \n",
            "1339                                 W-166 (23/10/2023)     WJJAA   \n",
            "1340                                 W-166 (23/10/2023)     WJJAG   \n",
            "1341                                 W-166 (23/10/2023)     WJMAC   \n",
            "1342                                 W-166 (23/10/2023)     WJLAK   \n",
            "\n",
            "                 Sample Name  \\\n",
            "0     WATD-B-SE8-CL-S44-L004   \n",
            "1         WATJ-B-CE-S45-L004   \n",
            "2         WATA-B-CE-S42-L004   \n",
            "3         WATL-B-CE-S47-L004   \n",
            "4         WATC-B-CE-S43-L004   \n",
            "...                      ...   \n",
            "1338         WJNAK-B-D-GE-S1   \n",
            "1339         WJJAA-B-D-GE-S1   \n",
            "1340         WJJAG-B-D-GE-S1   \n",
            "1341    WJMAC-B2-D-SE8-CL-S1   \n",
            "1342     WJLAK-B-D-SE8-CL-S1   \n",
            "\n",
            "                                        Target manifest Total aligned bases  \\\n",
            "0                      SureSelectXT_V8_Covered_used.bed          7206565449   \n",
            "1     Indiegene_Target_2109PD006-V1_4BaseCare_1K_DNA...          4352244763   \n",
            "2     Indiegene_Target_2109PD006-V1_4BaseCare_1K_DNA...          3565769719   \n",
            "3     Indiegene_Target_2109PD006-V1_4BaseCare_1K_DNA...          2830612629   \n",
            "4     Indiegene_Target_2109PD006-V1_4BaseCare_1K_DNA...          3734286172   \n",
            "...                                                 ...                 ...   \n",
            "1338       GERMLINE_Panel_163_GRCh37_13_Mar_23_used.bed           252227984   \n",
            "1339       GERMLINE_Panel_163_GRCh37_13_Mar_23_used.bed           362884710   \n",
            "1340       GERMLINE_Panel_163_GRCh37_13_Mar_23_used.bed           236173513   \n",
            "1341                   SureSelectXT_V8_Covered_used.bed          6056421703   \n",
            "1342                   SureSelectXT_V8_Covered_used.bed          4819530571   \n",
            "\n",
            "     Percent duplicate aligned reads Unique base enrichment  \\\n",
            "0                              24.21                  73.99   \n",
            "1                              26.17                  56.48   \n",
            "2                              21.94                  59.43   \n",
            "3                              23.98                  59.05   \n",
            "4                              22.29                  58.38   \n",
            "...                              ...                    ...   \n",
            "1338                           17.02                  60.93   \n",
            "1339                           20.25                  65.59   \n",
            "1340                           17.66                  67.09   \n",
            "1341                           21.25                  76.63   \n",
            "1342                           15.03                  66.77   \n",
            "\n",
            "     Mean target coverage depth Uniformity of coverage (Pct > 0.2*mean)  \\\n",
            "0                          85.8                                   95.01   \n",
            "1                         404.7                                   97.52   \n",
            "2                         359.8                                   97.23   \n",
            "3                         276.9                                   97.44   \n",
            "4                           375                                   97.03   \n",
            "...                         ...                                     ...   \n",
            "1338                      205.8                                   99.52   \n",
            "1339                      279.7                                   99.47   \n",
            "1340                      181.4                                   99.38   \n",
            "1341                       71.4                                   97.43   \n",
            "1342                       63.7                                   98.15   \n",
            "\n",
            "     Fragment length median  \n",
            "0                       141  \n",
            "1                       219  \n",
            "2                       193  \n",
            "3                       192  \n",
            "4                       211  \n",
            "...                     ...  \n",
            "1338                    157  \n",
            "1339                    130  \n",
            "1340                    118  \n",
            "1341                    122  \n",
            "1342                    183  \n",
            "\n",
            "[1343 rows x 10 columns]\n"
          ]
        }
      ]
    },
    {
      "cell_type": "code",
      "source": [
        "# List of sample names\n",
        "sample_names = ['WB2H-B2-SE8-CL', 'WCUF-B-Res-D-SE8-CL-S13', 'WDFF-B1-B2-Res-SE8-CL-S11-L004', 'WE4R-B1-Res-D2-L2-L3-SE8-CL-merged-S39-S40', 'WEJP-B1-B2-Res-SE8-CL', 'WEVQ-B1-Res-D-SE8-CL-S41', 'WEWK-B1-Res-D-SE8-CL-S42', 'WFGT-B1-Res-D-SE8-CL-S267-L004', 'WJ7A6-B-D-L1-SE8-S1', 'WKPAM-B-Res-D-L1L2-SE8-S1', 'WLRAH-B-Res-D1D2-SE8-merged-S219-L004', 'WLSA9-B1B2-Res-D-SE8-S225-L004', 'WLTAC-B-D-L2-SE8-S1', 'XACAH-B-D4-SE8-S158-L004']\n",
        "\n",
        "# Define the columns you want to extract\n",
        "columns_of_interest = [\n",
        "    'Sample Name', 'Target manifest', 'Total aligned bases', 'TAB Score',\n",
        "    'Percent duplicate aligned reads', 'PDAR Score', 'Unique base enrichment',\n",
        "    'UBE Score', 'Mean target coverage depth', 'MTCD Score',\n",
        "    'Uniformity of coverage (Pct > 0.2*mean)', 'UC Score',\n",
        "    'Fragment length median', 'FLM Score', 'Total Score'\n",
        "]\n",
        "\n",
        "# Add missing columns with empty values\n",
        "for col in columns_of_interest:\n",
        "    if col not in df.columns:\n",
        "        df[col] = ''\n",
        "\n",
        "# Filter the DataFrame for the sample names\n",
        "filtered_df = df[df['Sample Name'].isin(sample_names)]\n",
        "\n",
        "# Select the columns of interest\n",
        "filtered_df = filtered_df[columns_of_interest]\n",
        "\n",
        "# Find sample names not in the DataFrame\n",
        "found_sample_names = filtered_df['Sample Name'].tolist()\n",
        "missing_sample_names = [name for name in sample_names if name not in found_sample_names]\n",
        "\n",
        "# Display the filtered DataFrame\n",
        "print(\"Filtered DataFrame:\")\n",
        "print(filtered_df)\n",
        "\n",
        "# Display the sample names not found\n",
        "print(\"\\nSample names not found:\")\n",
        "print(missing_sample_names)"
      ],
      "metadata": {
        "colab": {
          "base_uri": "https://localhost:8080/"
        },
        "id": "IFoog0HrI4sb",
        "outputId": "90c6591f-d6fd-4df6-fbae-206c129c3a1e"
      },
      "execution_count": null,
      "outputs": [
        {
          "output_type": "stream",
          "name": "stdout",
          "text": [
            "Filtered DataFrame:\n",
            "                                    Sample Name  \\\n",
            "321                     WCUF-B-Res-D-SE8-CL-S13   \n",
            "339              WDFF-B1-B2-Res-SE8-CL-S11-L004   \n",
            "341                              WB2H-B2-SE8-CL   \n",
            "570                       WEJP-B1-B2-Res-SE8-CL   \n",
            "618                    WEVQ-B1-Res-D-SE8-CL-S41   \n",
            "620                    WEWK-B1-Res-D-SE8-CL-S42   \n",
            "621  WE4R-B1-Res-D2-L2-L3-SE8-CL-merged-S39-S40   \n",
            "668              WFGT-B1-Res-D-SE8-CL-S267-L004   \n",
            "\n",
            "                      Target manifest Total aligned bases TAB Score  \\\n",
            "321  SureSelectXT_V8_Covered_used.bed          4763613157             \n",
            "339  SureSelectXT_V8_Covered_used.bed          5175342290             \n",
            "341  SureSelectXT_V8_Covered_used.bed          4508746750             \n",
            "570  SureSelectXT_V8_Covered_used.bed          6659771195             \n",
            "618  SureSelectXT_V8_Covered_used.bed          6116129368             \n",
            "620  SureSelectXT_V8_Covered_used.bed          5536902126             \n",
            "621  SureSelectXT_V8_Covered_used.bed          6367622435             \n",
            "668  SureSelectXT_V8_Covered_used.bed          5466307361             \n",
            "\n",
            "    Percent duplicate aligned reads PDAR Score Unique base enrichment  \\\n",
            "321                           19.11                             67.75   \n",
            "339                           22.91                             57.28   \n",
            "341                           19.54                             65.99   \n",
            "570                           13.64                             73.85   \n",
            "618                            22.9                             69.62   \n",
            "620                           16.53                             71.56   \n",
            "621                           15.29                             65.11   \n",
            "668                           16.49                             64.26   \n",
            "\n",
            "    UBE Score Mean target coverage depth MTCD Score  \\\n",
            "321                                 56.9              \n",
            "339                                 55.3              \n",
            "341                                 53.4              \n",
            "570                                   85              \n",
            "618                                 74.6              \n",
            "620                                 71.8              \n",
            "621                                 81.8              \n",
            "668                                 66.6              \n",
            "\n",
            "    Uniformity of coverage (Pct > 0.2*mean) UC Score Fragment length median  \\\n",
            "321                                   94.59                             168   \n",
            "339                                   97.57                             246   \n",
            "341                                    97.3                             253   \n",
            "570                                   97.86                             127   \n",
            "618                                   97.69                             162   \n",
            "620                                    97.6                             150   \n",
            "621                                    98.2                             179   \n",
            "668                                   97.87                             184   \n",
            "\n",
            "    FLM Score Total Score  \n",
            "321                        \n",
            "339                        \n",
            "341                        \n",
            "570                        \n",
            "618                        \n",
            "620                        \n",
            "621                        \n",
            "668                        \n",
            "\n",
            "Sample names not found:\n",
            "['WJ7A6-B-D-L1-SE8-S1', 'WKPAM-B-Res-D-L1L2-SE8-S1', 'WLRAH-B-Res-D1D2-SE8-merged-S219-L004', 'WLSA9-B1B2-Res-D-SE8-S225-L004', 'WLTAC-B-D-L2-SE8-S1', 'XACAH-B-D4-SE8-S158-L004']\n"
          ]
        }
      ]
    },
    {
      "cell_type": "code",
      "source": [
        "# Create a new Google Sheet and write the DataFrame to it\n",
        "new_spreadsheet = gc.create('GBC_Germline_DNA_QC')  # replace with your desired sheet name\n",
        "new_worksheet = new_spreadsheet.get_worksheet(0)\n",
        "\n",
        "# Write the DataFrame to the new worksheet\n",
        "set_with_dataframe(new_worksheet, filtered_df)\n",
        "\n",
        "# Share the new spreadsheet (optional)\n",
        "# new_spreadsheet.share('your_email@example.com', perm_type='user', role='writer')"
      ],
      "metadata": {
        "id": "NLMTlObKKtoo"
      },
      "execution_count": null,
      "outputs": []
    }
  ]
}